{
 "cells": [
  {
   "cell_type": "code",
   "execution_count": 0,
   "metadata": {
    "application/vnd.databricks.v1+cell": {
     "cellMetadata": {
      "byteLimit": 2048000,
      "rowLimit": 10000
     },
     "inputWidgets": {},
     "nuid": "48003386-b069-43e5-a2e5-e281e3be00d0",
     "showTitle": false,
     "title": ""
    }
   },
   "outputs": [],
   "source": [
    "    spark.conf.set(\"fs.azure.account.key.bdoifrssa.dfs.core.windows.net\", \"ZMTwlEStMs+cJyWhoY7uzBQsF98Ri3b7swSQKgZk+/WNAiyf+IvKN8H6huOWA8DhyK1IBTt9leYj+AStwDpz3A==\")\n",
    "    print(\"Test Connection and Display\")"
   ]
  },
  {
   "cell_type": "code",
   "execution_count": 0,
   "metadata": {
    "application/vnd.databricks.v1+cell": {
     "cellMetadata": {
      "byteLimit": 2048000,
      "rowLimit": 10000
     },
     "inputWidgets": {},
     "nuid": "9cb34255-ab45-4717-b65f-7d3b9b361dcb",
     "showTitle": false,
     "title": ""
    }
   },
   "outputs": [],
   "source": [
    "#df = spark.read.option(\"inferSchema\",\"True\").option(\"header\", \"True\").option(\"delimiter\", \"\\t\").csv(\"abfss://bdo-ifrs@bdoifrssa.dfs.core.windows.net/landing/Product.csv\")\n",
    "#display(df,10)\n",
    "\n",
    "#df = spark.read.option(\"inferSchema\",\"True\").option(\"header\", \"True\").option(\"delimiter\", \"\\t\").csv(\"abfss://bdo-ifrs@bdoifrssa.dfs.core.windows.net/landing/Region.csv\")\n",
    "#display(df,10)\n",
    "\n",
    "spark.sql(\"CREATE SCHEMA IF NOT EXISTS bronze\")\n",
    "spark.sql(\"CREATE SCHEMA IF NOT EXISTS silver\")\n",
    "spark.sql(\"CREATE SCHEMA IF NOT EXISTS gold\")"
   ]
  },
  {
   "cell_type": "code",
   "execution_count": 0,
   "metadata": {
    "application/vnd.databricks.v1+cell": {
     "cellMetadata": {
      "byteLimit": 2048000,
      "rowLimit": 10000
     },
     "inputWidgets": {},
     "nuid": "7187e0f6-0d14-4db9-9fc4-1b32539e7094",
     "showTitle": false,
     "title": ""
    }
   },
   "outputs": [],
   "source": [
    "print(\"Loading from Bronze Layer Starting!\")\n",
    "\n",
    "spark.sql(f\"\"\"DROP TABLE IF EXISTS bronze.SalespersonRegion\"\"\")\n",
    "spark.sql(f\"\"\"DROP TABLE IF EXISTS bronze.Salesperson\"\"\")\n",
    "spark.sql(f\"\"\"DROP TABLE IF EXISTS bronze.Sales\"\"\")\n",
    "spark.sql(f\"\"\"DROP TABLE IF EXISTS bronze.Region\"\"\")\n",
    "spark.sql(f\"\"\"DROP TABLE IF EXISTS bronze.Product\"\"\")\n",
    "spark.sql(f\"\"\"DROP TABLE IF EXISTS bronze.Reseller\"\"\")\n",
    "spark.sql(f\"\"\"DROP TABLE IF EXISTS bronze.Targets\"\"\")\n",
    "\n",
    "spark.sql(f\"\"\"\n",
    "    CREATE TABLE IF NOT EXISTS bronze.SalespersonRegion\n",
    "    USING CSV\n",
    "    OPTIONS ('header'='true', sep '\\t')\n",
    "    LOCATION 'abfss://bdo-ifrs@bdoifrssa.dfs.core.windows.net/bronze/SalespersonRegion.csv';\n",
    "            \"\"\")\n",
    "\n",
    "spark.sql(f\"\"\"\n",
    "    CREATE TABLE IF NOT EXISTS bronze.Salesperson\n",
    "    USING CSV\n",
    "    OPTIONS ('header'='true', sep '\\t')\n",
    "    LOCATION 'abfss://bdo-ifrs@bdoifrssa.dfs.core.windows.net/bronze/Salesperson.csv';\n",
    "            \"\"\")\n",
    "\n",
    "spark.sql(f\"\"\"\n",
    "    CREATE TABLE IF NOT EXISTS bronze.Sales\n",
    "    USING CSV\n",
    "    OPTIONS ('header'='true', sep '\\t')\n",
    "    LOCATION 'abfss://bdo-ifrs@bdoifrssa.dfs.core.windows.net/bronze/Sales.csv';\n",
    "            \"\"\")\n",
    "\n",
    "spark.sql(f\"\"\"\n",
    "    CREATE TABLE IF NOT EXISTS bronze.Region\n",
    "    USING CSV\n",
    "    OPTIONS ('header'='true', sep '\\t')\n",
    "    LOCATION 'abfss://bdo-ifrs@bdoifrssa.dfs.core.windows.net/bronze/Region.csv';\n",
    "        \"\"\")\n",
    "\n",
    "spark.sql(f\"\"\"\n",
    "    CREATE TABLE IF NOT EXISTS bronze.Product\n",
    "    USING CSV\n",
    "    OPTIONS ('header'='true', sep '\\t')\n",
    "    LOCATION 'abfss://bdo-ifrs@bdoifrssa.dfs.core.windows.net/bronze/Product.csv';\n",
    "        \"\"\")\n",
    "\n",
    "spark.sql(f\"\"\"\n",
    "    CREATE TABLE IF NOT EXISTS bronze.Reseller\n",
    "    USING CSV\n",
    "    OPTIONS ('header'='true', sep '\\t')\n",
    "    LOCATION 'abfss://bdo-ifrs@bdoifrssa.dfs.core.windows.net/bronze/Reseller.csv';\n",
    "        \"\"\")\n",
    "\n",
    "spark.sql(f\"\"\"\n",
    "    CREATE TABLE IF NOT EXISTS bronze.Targets\n",
    "    USING CSV\n",
    "    OPTIONS ('header'='true', sep '\\t')\n",
    "    LOCATION 'abfss://bdo-ifrs@bdoifrssa.dfs.core.windows.net/bronze/Targets.csv';\n",
    "        \"\"\")\n",
    "    \n",
    "print(\"Loading from Bronze Layer Complete!\")"
   ]
  },
  {
   "cell_type": "code",
   "execution_count": 0,
   "metadata": {
    "application/vnd.databricks.v1+cell": {
     "cellMetadata": {
      "byteLimit": 2048000,
      "rowLimit": 10000
     },
     "inputWidgets": {},
     "nuid": "e3a8f8ab-1232-4645-ae61-b7b817c10819",
     "showTitle": false,
     "title": ""
    }
   },
   "outputs": [],
   "source": [
    "#df = spark.sql(\"SELECT * FROM targets WHERE to_number(Target, 'S$999,999,099') = 500000\")\n",
    "#display(df.printSchema())\n",
    "#display(df,10)\n",
    "\n",
    "#df.write \\\n",
    "#  .mode(\"overwrite\") \\\n",
    "#  .option(\"path\", f\"abfss://bdo-ifrs@bdoifrssa.dfs.core.windows.net/silver/small_targets\") \\\n",
    "#  .saveAsTable(\"small_targets\")\n",
    "\n",
    "df.write.format(\"delta\").saveAsTable(\"silver.Targets\")"
   ]
  },
  {
   "cell_type": "code",
   "execution_count": 0,
   "metadata": {
    "application/vnd.databricks.v1+cell": {
     "cellMetadata": {
      "byteLimit": 2048000,
      "implicitDf": true,
      "rowLimit": 10000
     },
     "inputWidgets": {},
     "nuid": "361091bf-640c-4487-adce-3c31b099720b",
     "showTitle": false,
     "title": ""
    }
   },
   "outputs": [],
   "source": [
    "df = spark.sql(\"SELECT * FROM bronze.targets\")\n",
    "df.write.format(\"delta\").options('columnMapping.mode','name').saveAsTable(\"silver.targets\")\n",
    "\n",
    "df = spark.sql(\"SELECT * FROM bronze.product\")\n",
    "df.write.format(\"delta\").saveAsTable(\"silver.product\")\n",
    "\n",
    "df = spark.sql(\"SELECT * FROM bronze.region\")\n",
    "df.write.format(\"delta\").saveAsTable(\"silver.region\")\n",
    "\n",
    "df = spark.sql(\"SELECT * FROM bronze.reseller\")\n",
    "df.write.format(\"delta\").saveAsTable(\"silver.reseller\")\n",
    "\n",
    "df = spark.sql(\"SELECT * FROM bronze.sales\")\n",
    "df.write.format(\"delta\").saveAsTable(\"silver.sales\")\n",
    "\n",
    "df = spark.sql(\"SELECT * FROM bronze.salespersonregion\")\n",
    "df.write.format(\"delta\").saveAsTable(\"silver.salespersonregion\")\n",
    "\n",
    "df = spark.sql(\"SELECT * FROM bronze.salesperson\")\n",
    "df.write.format(\"delta\").saveAsTable(\"silver.salesperson\")"
   ]
  },
  {
   "cell_type": "code",
   "execution_count": 0,
   "metadata": {
    "application/vnd.databricks.v1+cell": {
     "cellMetadata": {
      "byteLimit": 2048000,
      "implicitDf": true,
      "rowLimit": 10000
     },
     "inputWidgets": {},
     "nuid": "09348925-5738-4eb7-a90e-dae53bfad5dc",
     "showTitle": false,
     "title": ""
    }
   },
   "outputs": [],
   "source": [
    "from delta.tables import *\n",
    "\n",
    "df = spark.sql(\"SELECT * FROM bronze.targets\")\n",
    "df.printSchema()\n",
    "\n",
    "DeltaTable.createOrReplace(spark) \\\n",
    "  .tableName(\"silver.targets\") \\\n",
    "  .addColumn(\"EmployeeID\", \"INT\") \\\n",
    "  .addColumn(\"Target\", \"STRING\") \\\n",
    "  .addColumn(\"TargetMonth\", \"STRING\") \\\n",
    "  .execute()\n",
    "\n",
    "df = spark.sql(\"INSERT INTO silver.targets SELECT * FROM bronze.targets\")\n"
   ]
  },
  {
   "cell_type": "code",
   "execution_count": 0,
   "metadata": {
    "application/vnd.databricks.v1+cell": {
     "cellMetadata": {
      "byteLimit": 2048000,
      "implicitDf": true,
      "rowLimit": 10000
     },
     "inputWidgets": {},
     "nuid": "2c7e8e6a-2eb7-4080-b736-8ac8393b0844",
     "showTitle": false,
     "title": ""
    }
   },
   "outputs": [],
   "source": [
    "%sql\n",
    "DROP TABLE silver.targets_dlt;\n",
    "\n",
    "CREATE TABLE silver.targets_dlt (\n",
    "EmployeeID INT\n",
    ",Target STRING\n",
    ",TargetMonth STRING\n",
    ") USING DELTA;\n",
    "\n",
    "ALTER TABLE silver.targets_dlt ADD CONSTRAINT valid_target CHECK (to_number(Target, 'S$999,999,099') > 500000\"));"
   ]
  }
 ],
 "metadata": {
  "application/vnd.databricks.v1+notebook": {
   "dashboards": [],
   "language": "python",
   "notebookMetadata": {
    "mostRecentlyExecutedCommandWithImplicitDF": {
     "commandId": 2184374821485495,
     "dataframes": [
      "_sqldf"
     ]
    },
    "pythonIndentUnit": 4
   },
   "notebookName": "BDO_IFRS",
   "widgets": {}
  }
 },
 "nbformat": 4,
 "nbformat_minor": 0
}
